{
 "cells": [
  {
   "cell_type": "markdown",
   "metadata": {},
   "source": [
    "<h1> Machine Learning using tf.estimator </h1>\n",
    "\n",
    "In this notebook, we will create a machine learning model using tf.estimator and evaluate its performance.  The dataset is rather small (7700 samples), so we can do it all in-memory.  We will also simply pass the raw data in as-is. "
   ]
  },
  {
   "cell_type": "code",
   "execution_count": 1,
   "metadata": {},
   "outputs": [
    {
     "name": "stderr",
     "output_type": "stream",
     "text": [
      "/usr/local/envs/py2env/lib/python2.7/site-packages/h5py/__init__.py:36: FutureWarning: Conversion of the second argument of issubdtype from `float` to `np.floating` is deprecated. In future, it will be treated as `np.float64 == np.dtype(float).type`.\n",
      "  from ._conv import register_converters as _register_converters\n"
     ]
    },
    {
     "name": "stdout",
     "output_type": "stream",
     "text": [
      "1.8.0\n"
     ]
    }
   ],
   "source": [
    "import datalab.bigquery as bq\n",
    "import tensorflow as tf\n",
    "import pandas as pd\n",
    "import numpy as np\n",
    "import shutil\n",
    "\n",
    "print tf.__version__"
   ]
  },
  {
   "cell_type": "markdown",
   "metadata": {},
   "source": [
    "Read data created in the previous chapter."
   ]
  },
  {
   "cell_type": "code",
   "execution_count": 20,
   "metadata": {},
   "outputs": [],
   "source": [
    "# In CSV, label is the first column, after the features, followed by the key\n",
    "CSV_COLUMNS = ['fare_amount', 'pickuplon','pickuplat','dropofflon','dropofflat','passengers', 'key']\n",
    "FEATURES = CSV_COLUMNS[1:len(CSV_COLUMNS) - 1] #minus 1 is minus the 'label'\n",
    "LABEL = CSV_COLUMNS[0]\n",
    "\n",
    "df_train = pd.read_csv('./taxi-train.csv', header = None, names = CSV_COLUMNS)\n",
    "df_valid = pd.read_csv('./taxi-valid.csv', header = None, names = CSV_COLUMNS)"
   ]
  },
  {
   "cell_type": "markdown",
   "metadata": {},
   "source": [
    "<h2> Input function to read from Pandas Dataframe into tf.constant </h2>"
   ]
  },
  {
   "cell_type": "code",
   "execution_count": 21,
   "metadata": {},
   "outputs": [],
   "source": [
    "def make_input_fn(df, num_epochs):\n",
    "  return tf.estimator.inputs.pandas_input_fn(\n",
    "    x = df,\n",
    "    y = df[LABEL],\n",
    "    batch_size = 128,\n",
    "    num_epochs = num_epochs,\n",
    "    shuffle = True,\n",
    "    queue_capacity = 1000,\n",
    "    num_threads = 1\n",
    "  )"
   ]
  },
  {
   "cell_type": "markdown",
   "metadata": {},
   "source": [
    "### Create feature columns for estimator"
   ]
  },
  {
   "cell_type": "code",
   "execution_count": 22,
   "metadata": {},
   "outputs": [],
   "source": [
    "def make_feature_cols():\n",
    "  input_columns = [tf.feature_column.numeric_column(k) for k in FEATURES]\n",
    "  return input_columns"
   ]
  },
  {
   "cell_type": "markdown",
   "metadata": {},
   "source": [
    "<h3> Linear Regression with tf.Estimator framework </h3>"
   ]
  },
  {
   "cell_type": "code",
   "execution_count": 23,
   "metadata": {},
   "outputs": [
    {
     "name": "stdout",
     "output_type": "stream",
     "text": [
      "INFO:tensorflow:Using default config.\n",
      "INFO:tensorflow:Using config: {'_save_checkpoints_secs': 600, '_session_config': None, '_keep_checkpoint_max': 5, '_task_type': 'worker', '_train_distribute': None, '_is_chief': True, '_cluster_spec': <tensorflow.python.training.server_lib.ClusterSpec object at 0x7f805f085e90>, '_evaluation_master': '', '_save_checkpoints_steps': None, '_keep_checkpoint_every_n_hours': 10000, '_service': None, '_num_ps_replicas': 0, '_tf_random_seed': None, '_master': '', '_num_worker_replicas': 1, '_task_id': 0, '_log_step_count_steps': 100, '_model_dir': 'taxi_trained', '_global_id_in_cluster': 0, '_save_summary_steps': 100}\n",
      "INFO:tensorflow:Calling model_fn.\n",
      "INFO:tensorflow:Done calling model_fn.\n",
      "INFO:tensorflow:Create CheckpointSaverHook.\n",
      "INFO:tensorflow:Graph was finalized.\n",
      "INFO:tensorflow:Running local_init_op.\n",
      "INFO:tensorflow:Done running local_init_op.\n",
      "INFO:tensorflow:Saving checkpoints for 1 into taxi_trained/model.ckpt.\n",
      "INFO:tensorflow:loss = 24715.168, step = 1\n",
      "INFO:tensorflow:global_step/sec: 273.68\n",
      "INFO:tensorflow:loss = 8351.643, step = 101 (0.370 sec)\n",
      "INFO:tensorflow:global_step/sec: 287.558\n",
      "INFO:tensorflow:loss = 14777.671, step = 201 (0.347 sec)\n",
      "INFO:tensorflow:global_step/sec: 306.949\n",
      "INFO:tensorflow:loss = 8253.936, step = 301 (0.326 sec)\n",
      "INFO:tensorflow:global_step/sec: 314.395\n",
      "INFO:tensorflow:loss = 12862.462, step = 401 (0.318 sec)\n",
      "INFO:tensorflow:global_step/sec: 297.753\n",
      "INFO:tensorflow:loss = 17162.303, step = 501 (0.336 sec)\n",
      "INFO:tensorflow:global_step/sec: 321.481\n",
      "INFO:tensorflow:loss = 11356.048, step = 601 (0.311 sec)\n",
      "INFO:tensorflow:Saving checkpoints for 608 into taxi_trained/model.ckpt.\n",
      "INFO:tensorflow:Loss for final step: 131.37262.\n"
     ]
    },
    {
     "data": {
      "text/plain": [
       "<tensorflow.python.estimator.canned.linear.LinearRegressor at 0x7f805f085bd0>"
      ]
     },
     "execution_count": 23,
     "metadata": {},
     "output_type": "execute_result"
    }
   ],
   "source": [
    "tf.logging.set_verbosity(tf.logging.INFO)\n",
    "\n",
    "OUTDIR = 'taxi_trained'\n",
    "shutil.rmtree(OUTDIR, ignore_errors = True) # start fresh each time\n",
    "\n",
    "model = tf.estimator.LinearRegressor(\n",
    "      feature_columns = make_feature_cols(), model_dir = OUTDIR)\n",
    "\n",
    "model.train(input_fn = make_input_fn(df_train, num_epochs = 10))"
   ]
  },
  {
   "cell_type": "markdown",
   "metadata": {},
   "source": [
    "Evaluate on the validation data (we should defer using the test data to after we have selected a final model)."
   ]
  },
  {
   "cell_type": "code",
   "execution_count": 16,
   "metadata": {},
   "outputs": [
    {
     "name": "stdout",
     "output_type": "stream",
     "text": [
      "INFO:tensorflow:Calling model_fn.\n",
      "INFO:tensorflow:Done calling model_fn.\n",
      "INFO:tensorflow:Starting evaluation at 2018-09-04-21:35:35\n",
      "INFO:tensorflow:Graph was finalized.\n",
      "INFO:tensorflow:Restoring parameters from taxi_trained/model.ckpt-608\n",
      "INFO:tensorflow:Running local_init_op.\n",
      "INFO:tensorflow:Done running local_init_op.\n",
      "INFO:tensorflow:Finished evaluation at 2018-09-04-21:35:35\n",
      "INFO:tensorflow:Saving dict for global step 608: average_loss = 92.161194, global_step = 608, loss = 10960.6\n",
      "RMSE on validation dataset = 9.6000623703\n"
     ]
    }
   ],
   "source": [
    "def print_rmse(model, name, df):\n",
    "  metrics = model.evaluate(input_fn = make_input_fn(df, 1))\n",
    "  print 'RMSE on {} dataset = {}'.format(name, np.sqrt(metrics['average_loss']))\n",
    "print_rmse(model, 'validation', df_valid)"
   ]
  },
  {
   "cell_type": "markdown",
   "metadata": {},
   "source": [
    "This is nowhere near our benchmark (RMSE of $6 or so on this data), but it serves to demonstrate what TensorFlow code looks like.  Let's use this model for prediction."
   ]
  },
  {
   "cell_type": "code",
   "execution_count": 17,
   "metadata": {},
   "outputs": [
    {
     "name": "stdout",
     "output_type": "stream",
     "text": [
      "INFO:tensorflow:Using default config.\n",
      "INFO:tensorflow:Using config: {'_save_checkpoints_secs': 600, '_session_config': None, '_keep_checkpoint_max': 5, '_task_type': 'worker', '_train_distribute': None, '_is_chief': True, '_cluster_spec': <tensorflow.python.training.server_lib.ClusterSpec object at 0x7f8064072c90>, '_evaluation_master': '', '_save_checkpoints_steps': None, '_keep_checkpoint_every_n_hours': 10000, '_service': None, '_num_ps_replicas': 0, '_tf_random_seed': None, '_master': '', '_num_worker_replicas': 1, '_task_id': 0, '_log_step_count_steps': 100, '_model_dir': 'taxi_trained', '_global_id_in_cluster': 0, '_save_summary_steps': 100}\n",
      "INFO:tensorflow:Calling model_fn.\n",
      "INFO:tensorflow:Done calling model_fn.\n",
      "INFO:tensorflow:Graph was finalized.\n",
      "INFO:tensorflow:Restoring parameters from taxi_trained/model.ckpt-608\n",
      "INFO:tensorflow:Running local_init_op.\n",
      "INFO:tensorflow:Done running local_init_op.\n",
      "[10.120241, 10.132334, 10.311913, 10.131682, 10.489599]\n"
     ]
    }
   ],
   "source": [
    "import itertools\n",
    "# Read saved model and use it for prediction\n",
    "model = tf.estimator.LinearRegressor(\n",
    "      feature_columns = make_feature_cols(), model_dir = OUTDIR)\n",
    "preds_iter = model.predict(input_fn = make_input_fn(df_valid, 1))\n",
    "print [pred['predictions'][0] for pred in list(itertools.islice(preds_iter, 5))]"
   ]
  },
  {
   "cell_type": "markdown",
   "metadata": {},
   "source": [
    "This explains why the RMSE was so high -- the model essentially predicts the same amount for every trip.  Would a more complex model help? Let's try using a deep neural network.  The code to do this is quite straightforward as well."
   ]
  },
  {
   "cell_type": "markdown",
   "metadata": {},
   "source": [
    "<h3> Deep Neural Network regression </h3>"
   ]
  },
  {
   "cell_type": "code",
   "execution_count": 18,
   "metadata": {},
   "outputs": [
    {
     "name": "stdout",
     "output_type": "stream",
     "text": [
      "INFO:tensorflow:Using default config.\n",
      "INFO:tensorflow:Using config: {'_save_checkpoints_secs': 600, '_session_config': None, '_keep_checkpoint_max': 5, '_task_type': 'worker', '_train_distribute': None, '_is_chief': True, '_cluster_spec': <tensorflow.python.training.server_lib.ClusterSpec object at 0x7f806422e4d0>, '_evaluation_master': '', '_save_checkpoints_steps': None, '_keep_checkpoint_every_n_hours': 10000, '_service': None, '_num_ps_replicas': 0, '_tf_random_seed': None, '_master': '', '_num_worker_replicas': 1, '_task_id': 0, '_log_step_count_steps': 100, '_model_dir': 'taxi_trained', '_global_id_in_cluster': 0, '_save_summary_steps': 100}\n",
      "INFO:tensorflow:Calling model_fn.\n",
      "INFO:tensorflow:Done calling model_fn.\n",
      "INFO:tensorflow:Create CheckpointSaverHook.\n",
      "INFO:tensorflow:Graph was finalized.\n",
      "INFO:tensorflow:Running local_init_op.\n",
      "INFO:tensorflow:Done running local_init_op.\n",
      "INFO:tensorflow:Saving checkpoints for 1 into taxi_trained/model.ckpt.\n",
      "INFO:tensorflow:loss = 30036.24, step = 1\n",
      "INFO:tensorflow:global_step/sec: 254.701\n",
      "INFO:tensorflow:loss = 29310.172, step = 101 (0.399 sec)\n",
      "INFO:tensorflow:global_step/sec: 304.917\n",
      "INFO:tensorflow:loss = 20303.182, step = 201 (0.326 sec)\n",
      "INFO:tensorflow:global_step/sec: 245.097\n",
      "INFO:tensorflow:loss = 30292.477, step = 301 (0.408 sec)\n",
      "INFO:tensorflow:global_step/sec: 286.106\n",
      "INFO:tensorflow:loss = 28361.09, step = 401 (0.350 sec)\n",
      "INFO:tensorflow:global_step/sec: 259.971\n",
      "INFO:tensorflow:loss = 26294.66, step = 501 (0.386 sec)\n",
      "INFO:tensorflow:global_step/sec: 276.781\n",
      "INFO:tensorflow:loss = 15643.758, step = 601 (0.360 sec)\n",
      "INFO:tensorflow:global_step/sec: 263.283\n",
      "INFO:tensorflow:loss = 17910.246, step = 701 (0.380 sec)\n",
      "INFO:tensorflow:global_step/sec: 253.557\n",
      "INFO:tensorflow:loss = 17299.082, step = 801 (0.394 sec)\n",
      "INFO:tensorflow:global_step/sec: 283.178\n",
      "INFO:tensorflow:loss = 19689.299, step = 901 (0.353 sec)\n",
      "INFO:tensorflow:global_step/sec: 284.694\n",
      "INFO:tensorflow:loss = 18208.031, step = 1001 (0.352 sec)\n",
      "INFO:tensorflow:global_step/sec: 273.398\n",
      "INFO:tensorflow:loss = 12588.039, step = 1101 (0.366 sec)\n",
      "INFO:tensorflow:global_step/sec: 289.073\n",
      "INFO:tensorflow:loss = 30089.5, step = 1201 (0.346 sec)\n",
      "INFO:tensorflow:global_step/sec: 293.192\n",
      "INFO:tensorflow:loss = 20916.736, step = 1301 (0.341 sec)\n",
      "INFO:tensorflow:global_step/sec: 250.625\n",
      "INFO:tensorflow:loss = 10644.924, step = 1401 (0.399 sec)\n",
      "INFO:tensorflow:global_step/sec: 281.205\n",
      "INFO:tensorflow:loss = 13969.542, step = 1501 (0.355 sec)\n",
      "INFO:tensorflow:global_step/sec: 265.396\n",
      "INFO:tensorflow:loss = 14861.76, step = 1601 (0.377 sec)\n",
      "INFO:tensorflow:global_step/sec: 280.739\n",
      "INFO:tensorflow:loss = 29117.559, step = 1701 (0.356 sec)\n",
      "INFO:tensorflow:global_step/sec: 287.349\n",
      "INFO:tensorflow:loss = 20206.115, step = 1801 (0.348 sec)\n",
      "INFO:tensorflow:global_step/sec: 269.102\n",
      "INFO:tensorflow:loss = 19832.785, step = 1901 (0.373 sec)\n",
      "INFO:tensorflow:global_step/sec: 290.335\n",
      "INFO:tensorflow:loss = 18486.371, step = 2001 (0.344 sec)\n",
      "INFO:tensorflow:global_step/sec: 307.208\n",
      "INFO:tensorflow:loss = 21137.477, step = 2101 (0.325 sec)\n",
      "INFO:tensorflow:global_step/sec: 272.018\n",
      "INFO:tensorflow:loss = 30518.18, step = 2201 (0.368 sec)\n",
      "INFO:tensorflow:global_step/sec: 284.391\n",
      "INFO:tensorflow:loss = 12921.184, step = 2301 (0.352 sec)\n",
      "INFO:tensorflow:global_step/sec: 271.705\n",
      "INFO:tensorflow:loss = 12945.102, step = 2401 (0.369 sec)\n",
      "INFO:tensorflow:global_step/sec: 243.429\n",
      "INFO:tensorflow:loss = 13146.111, step = 2501 (0.410 sec)\n",
      "INFO:tensorflow:global_step/sec: 297.091\n",
      "INFO:tensorflow:loss = 14415.339, step = 2601 (0.336 sec)\n",
      "INFO:tensorflow:global_step/sec: 277.436\n",
      "INFO:tensorflow:loss = 12384.6, step = 2701 (0.361 sec)\n",
      "INFO:tensorflow:global_step/sec: 269.809\n",
      "INFO:tensorflow:loss = 22137.402, step = 2801 (0.370 sec)\n",
      "INFO:tensorflow:global_step/sec: 301.195\n",
      "INFO:tensorflow:loss = 23226.01, step = 2901 (0.332 sec)\n",
      "INFO:tensorflow:global_step/sec: 267.445\n",
      "INFO:tensorflow:loss = 13152.675, step = 3001 (0.376 sec)\n",
      "INFO:tensorflow:global_step/sec: 277.386\n",
      "INFO:tensorflow:loss = 19190.037, step = 3101 (0.359 sec)\n",
      "INFO:tensorflow:global_step/sec: 278.694\n",
      "INFO:tensorflow:loss = 19113.752, step = 3201 (0.358 sec)\n",
      "INFO:tensorflow:global_step/sec: 258.529\n",
      "INFO:tensorflow:loss = 14023.281, step = 3301 (0.387 sec)\n",
      "INFO:tensorflow:global_step/sec: 279.594\n",
      "INFO:tensorflow:loss = 16643.873, step = 3401 (0.358 sec)\n",
      "INFO:tensorflow:global_step/sec: 285.402\n",
      "INFO:tensorflow:loss = 9852.799, step = 3501 (0.350 sec)\n",
      "INFO:tensorflow:global_step/sec: 268.585\n",
      "INFO:tensorflow:loss = 26885.191, step = 3601 (0.376 sec)\n",
      "INFO:tensorflow:global_step/sec: 289.396\n",
      "INFO:tensorflow:loss = 22874.555, step = 3701 (0.342 sec)\n",
      "INFO:tensorflow:global_step/sec: 257.837\n",
      "INFO:tensorflow:loss = 17672.227, step = 3801 (0.391 sec)\n",
      "INFO:tensorflow:global_step/sec: 287.587\n",
      "INFO:tensorflow:loss = 13904.415, step = 3901 (0.345 sec)\n",
      "INFO:tensorflow:global_step/sec: 279.519\n",
      "INFO:tensorflow:loss = 9479.153, step = 4001 (0.358 sec)\n",
      "INFO:tensorflow:global_step/sec: 257.431\n",
      "INFO:tensorflow:loss = 12122.037, step = 4101 (0.389 sec)\n",
      "INFO:tensorflow:global_step/sec: 280.038\n",
      "INFO:tensorflow:loss = 11395.403, step = 4201 (0.357 sec)\n",
      "INFO:tensorflow:global_step/sec: 294.936\n",
      "INFO:tensorflow:loss = 15274.94, step = 4301 (0.339 sec)\n",
      "INFO:tensorflow:global_step/sec: 262.543\n",
      "INFO:tensorflow:loss = 13879.382, step = 4401 (0.381 sec)\n",
      "INFO:tensorflow:global_step/sec: 290.114\n",
      "INFO:tensorflow:loss = 9450.376, step = 4501 (0.345 sec)\n",
      "INFO:tensorflow:global_step/sec: 289.641\n",
      "INFO:tensorflow:loss = 13884.178, step = 4601 (0.345 sec)\n",
      "INFO:tensorflow:global_step/sec: 267.683\n",
      "INFO:tensorflow:loss = 25459.48, step = 4701 (0.374 sec)\n",
      "INFO:tensorflow:global_step/sec: 286.76\n",
      "INFO:tensorflow:loss = 17510.324, step = 4801 (0.350 sec)\n",
      "INFO:tensorflow:global_step/sec: 264.131\n",
      "INFO:tensorflow:loss = 13374.865, step = 4901 (0.378 sec)\n",
      "INFO:tensorflow:global_step/sec: 270.337\n",
      "INFO:tensorflow:loss = 17067.89, step = 5001 (0.369 sec)\n",
      "INFO:tensorflow:global_step/sec: 301.752\n",
      "INFO:tensorflow:loss = 12236.7295, step = 5101 (0.331 sec)\n",
      "INFO:tensorflow:global_step/sec: 252.717\n",
      "INFO:tensorflow:loss = 10834.172, step = 5201 (0.396 sec)\n",
      "INFO:tensorflow:global_step/sec: 276.555\n",
      "INFO:tensorflow:loss = 19192.457, step = 5301 (0.362 sec)\n",
      "INFO:tensorflow:global_step/sec: 286.658\n",
      "INFO:tensorflow:loss = 14165.365, step = 5401 (0.348 sec)\n",
      "INFO:tensorflow:global_step/sec: 261.925\n",
      "INFO:tensorflow:loss = 15302.33, step = 5501 (0.382 sec)\n",
      "INFO:tensorflow:global_step/sec: 275.214\n",
      "INFO:tensorflow:loss = 13575.677, step = 5601 (0.363 sec)\n",
      "INFO:tensorflow:global_step/sec: 272.518\n",
      "INFO:tensorflow:loss = 11067.303, step = 5701 (0.367 sec)\n",
      "INFO:tensorflow:global_step/sec: 257.046\n",
      "INFO:tensorflow:loss = 12416.6, step = 5801 (0.389 sec)\n",
      "INFO:tensorflow:global_step/sec: 281.84\n",
      "INFO:tensorflow:loss = 7667.9727, step = 5901 (0.355 sec)\n",
      "INFO:tensorflow:global_step/sec: 268.389\n",
      "INFO:tensorflow:loss = 21645.93, step = 6001 (0.373 sec)\n",
      "INFO:tensorflow:Saving checkpoints for 6071 into taxi_trained/model.ckpt.\n",
      "INFO:tensorflow:Loss for final step: 3822.5513.\n",
      "INFO:tensorflow:Calling model_fn.\n",
      "INFO:tensorflow:Done calling model_fn.\n",
      "INFO:tensorflow:Starting evaluation at 2018-09-04-21:38:05\n",
      "INFO:tensorflow:Graph was finalized.\n",
      "INFO:tensorflow:Restoring parameters from taxi_trained/model.ckpt-6071\n",
      "INFO:tensorflow:Running local_init_op.\n",
      "INFO:tensorflow:Done running local_init_op.\n",
      "INFO:tensorflow:Finished evaluation at 2018-09-04-21:38:06\n",
      "INFO:tensorflow:Saving dict for global step 6071: average_loss = 112.26996, global_step = 6071, loss = 13352.106\n",
      "RMSE on validation dataset = 10.5957517624\n"
     ]
    }
   ],
   "source": [
    "tf.logging.set_verbosity(tf.logging.INFO)\n",
    "shutil.rmtree(OUTDIR, ignore_errors = True) # start fresh each time\n",
    "model = tf.estimator.DNNRegressor(hidden_units = [32, 8, 2],\n",
    "      feature_columns = make_feature_cols(), model_dir = OUTDIR)\n",
    "model.train(input_fn = make_input_fn(df_train, num_epochs = 100));\n",
    "print_rmse(model, 'validation', df_valid)"
   ]
  },
  {
   "cell_type": "markdown",
   "metadata": {},
   "source": [
    "We are not beating our benchmark with either model ... what's up?  Well, we may be using TensorFlow for Machine Learning, but we are not yet using it well.  That's what the rest of this course is about!\n",
    "\n",
    "But, for the record, let's say we had to choose between the two models. We'd choose the one with the lower validation error. Finally, we'd measure the RMSE on the test data with this chosen model."
   ]
  },
  {
   "cell_type": "markdown",
   "metadata": {},
   "source": [
    "<h2> Benchmark dataset </h2>\n",
    "\n",
    "Let's do this on the benchmark dataset."
   ]
  },
  {
   "cell_type": "code",
   "execution_count": null,
   "metadata": {},
   "outputs": [],
   "source": [
    "import datalab.bigquery as bq\n",
    "import numpy as np\n",
    "import pandas as pd\n",
    "\n",
    "\n",
    "def create_query(phase, EVERY_N):\n",
    "  \"\"\"\n",
    "  phase: 1 = train 2 = valid\n",
    "  \"\"\"\n",
    "  base_query = \"\"\"\n",
    "SELECT\n",
    "  (tolls_amount + fare_amount) AS fare_amount,\n",
    "  CONCAT(STRING(pickup_datetime), STRING(pickup_longitude), STRING(pickup_latitude), STRING(dropoff_latitude), STRING(dropoff_longitude)) AS key,\n",
    "  DAYOFWEEK(pickup_datetime)*1.0 AS dayofweek,\n",
    "  HOUR(pickup_datetime)*1.0 AS hourofday,\n",
    "  pickup_longitude AS pickuplon,\n",
    "  pickup_latitude AS pickuplat,\n",
    "  dropoff_longitude AS dropofflon,\n",
    "  dropoff_latitude AS dropofflat,\n",
    "  passenger_count*1.0 AS passengers,\n",
    "FROM\n",
    "  [nyc-tlc:yellow.trips]\n",
    "WHERE\n",
    "  trip_distance > 0\n",
    "  AND fare_amount >= 2.5\n",
    "  AND pickup_longitude > -78\n",
    "  AND pickup_longitude < -70\n",
    "  AND dropoff_longitude > -78\n",
    "  AND dropoff_longitude < -70\n",
    "  AND pickup_latitude > 37\n",
    "  AND pickup_latitude < 45\n",
    "  AND dropoff_latitude > 37\n",
    "  AND dropoff_latitude < 45\n",
    "  AND passenger_count > 0\n",
    "  \"\"\"\n",
    "\n",
    "  if EVERY_N == None:\n",
    "    if phase < 2:\n",
    "      # Training\n",
    "      query = \"{0} AND ABS(HASH(pickup_datetime)) % 4 < 2\".format(base_query)\n",
    "    else:\n",
    "      # Validation\n",
    "      query = \"{0} AND ABS(HASH(pickup_datetime)) % 4 == {1}\".format(base_query, phase)\n",
    "  else:\n",
    "    query = \"{0} AND ABS(HASH(pickup_datetime)) % {1} == {2}\".format(base_query, EVERY_N, phase)\n",
    "    \n",
    "  return query\n",
    "\n",
    "query = create_query(2, 100000)\n",
    "df = bq.Query(query).to_dataframe()"
   ]
  },
  {
   "cell_type": "code",
   "execution_count": null,
   "metadata": {},
   "outputs": [],
   "source": [
    "print_rmse(model, 'benchmark', df)"
   ]
  },
  {
   "cell_type": "markdown",
   "metadata": {},
   "source": [
    "RMSE on benchmark dataset is <b>9.41</b> (your results will vary because of random seeds).\n",
    "\n",
    "This is not only way more than our original benchmark of 6.00, but it doesn't even beat our distance-based rule's RMSE of 8.02.\n",
    "\n",
    "Fear not -- you have learned how to write a TensorFlow model, but not to do all the things that you will have to do to your ML model performant. We will do this in the next chapters. In this chapter though, we will get our TensorFlow model ready for these improvements.\n",
    "\n",
    "In a software sense, the rest of the labs in this chapter will be about refactoring the code so that we can improve it."
   ]
  },
  {
   "cell_type": "markdown",
   "metadata": {},
   "source": [
    "Copyright 2017 Google Inc. Licensed under the Apache License, Version 2.0 (the \"License\"); you may not use this file except in compliance with the License. You may obtain a copy of the License at http://www.apache.org/licenses/LICENSE-2.0 Unless required by applicable law or agreed to in writing, software distributed under the License is distributed on an \"AS IS\" BASIS, WITHOUT WARRANTIES OR CONDITIONS OF ANY KIND, either express or implied. See the License for the specific language governing permissions and limitations under the License"
   ]
  }
 ],
 "metadata": {
  "kernelspec": {
   "display_name": "Python 2",
   "language": "python",
   "name": "python2"
  },
  "language_info": {
   "codemirror_mode": {
    "name": "ipython",
    "version": 2
   },
   "file_extension": ".py",
   "mimetype": "text/x-python",
   "name": "python",
   "nbconvert_exporter": "python",
   "pygments_lexer": "ipython2",
   "version": "2.7.15"
  }
 },
 "nbformat": 4,
 "nbformat_minor": 1
}
